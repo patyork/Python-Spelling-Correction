{
 "metadata": {
  "name": ""
 },
 "nbformat": 3,
 "nbformat_minor": 0,
 "worksheets": [
  {
   "cells": [
    {
     "cell_type": "code",
     "collapsed": false,
     "input": [
      "# Spelling correction\n",
      "import re, collections\n",
      "import string"
     ],
     "language": "python",
     "metadata": {},
     "outputs": [],
     "prompt_number": 11
    },
    {
     "cell_type": "heading",
     "level": 1,
     "metadata": {},
     "source": [
      "Valid Word Corpus"
     ]
    },
    {
     "cell_type": "markdown",
     "metadata": {},
     "source": [
      "For our purposes, we will assume that words of length <= 2 are irrelevant (ignore them all)"
     ]
    },
    {
     "cell_type": "markdown",
     "metadata": {},
     "source": [
      "ValidWords.txt -> Newline-separated list of valid words of length >= 3"
     ]
    },
    {
     "cell_type": "code",
     "collapsed": false,
     "input": [
      "with open('EnglishWords.txt', 'r') as fin, open('ValidWords.txt', 'w') as out:\n",
      "    for line in fin:\n",
      "        line = line.strip()\n",
      "        if len(line) > 2:\n",
      "            out.write(line + '\\n')"
     ],
     "language": "python",
     "metadata": {},
     "outputs": [],
     "prompt_number": 2
    },
    {
     "cell_type": "code",
     "collapsed": false,
     "input": [
      "validWords = {}\n",
      "\n",
      "with open('ValidWords.txt', 'r') as f:\n",
      "    for line in f:\n",
      "        validWords.update({line.strip().lower():1})\n",
      "        \n",
      "print len(validWords)"
     ],
     "language": "python",
     "metadata": {},
     "outputs": [
      {
       "output_type": "stream",
       "stream": "stdout",
       "text": [
        "69773\n"
       ]
      }
     ],
     "prompt_number": 3
    },
    {
     "cell_type": "code",
     "collapsed": false,
     "input": [],
     "language": "python",
     "metadata": {},
     "outputs": []
    },
    {
     "cell_type": "code",
     "collapsed": false,
     "input": [
      "import string\n",
      "# Remove words not in the valid word list from our corpus\n",
      "# This will keep us from correcting a misspelled word to another misspelled word\n",
      "with open('SpellCheckCorpus.txt', 'r') as f, open('NewSpellCheckCorpus.txt', 'w') as out:\n",
      "    for line in f:\n",
      "        newline = []\n",
      "        for word in line.strip().split(' '):\n",
      "            if word in validWords:\n",
      "                newline.append(word)\n",
      "            newword = word.translate(None, string.punctuation)\n",
      "            if newword in validWords:\n",
      "                newline.append(newword)\n",
      "                \n",
      "        # Write to new corpus\n",
      "        out.write(' '.join(newline) + '\\n')"
     ],
     "language": "python",
     "metadata": {},
     "outputs": [],
     "prompt_number": 6
    },
    {
     "cell_type": "code",
     "collapsed": false,
     "input": [
      "def words(text):\n",
      "    return re.findall('[a-z]+', text.lower())\n",
      "\n",
      "def train(features):\n",
      "    model = collections.defaultdict(lambda: 1)\n",
      "    for f in features:\n",
      "        model[f] += 1\n",
      "    return model\n",
      "\n",
      "NWORDS = train(words(file('NewSpellCheckCorpus.txt').read()))\n",
      "alphabet = 'abcdefghijklmnopqrstuvwxyz'\n",
      "\n",
      "def edits1(word):\n",
      "    s = [(word[:i], word[i:]) for i in range(len(word) + 1)]\n",
      "    deletes    = [a + b[1:] for a, b in s if b]\n",
      "    transposes = [a + b[1] + b[0] + b[2:] for a, b in s if len(b)>1]\n",
      "    replaces   = [a + c + b[1:] for a, b in s for c in alphabet if b]\n",
      "    inserts    = [a + c + b     for a, b in s for c in alphabet]\n",
      "    return set(deletes + transposes + replaces + inserts)\n",
      "\n",
      "def known_edits2(word):\n",
      "    return set(e2 for e1 in edits1(word) for e2 in edits1(e1) if e2 in NWORDS)\n",
      "\n",
      "def known(words):\n",
      "    return set(w for w in words if w in NWORDS)\n",
      "\n",
      "def correct(word):\n",
      "    candidates = known([word]) or known(edits1(word)) or    known_edits2(word) or [word]\n",
      "    return max(candidates, key=NWORDS.get)"
     ],
     "language": "python",
     "metadata": {},
     "outputs": [],
     "prompt_number": 8
    },
    {
     "cell_type": "code",
     "collapsed": false,
     "input": [
      "# aall ---> all\n",
      "def FixCharacterRepetitions(word):\n",
      "    return re.sub('([ahijkquvwxy])\\\\1+', '\\\\1', word)\n",
      "\n",
      "# welll ---> well\n",
      "def FixCharacterRepetitions2(word):\n",
      "    return re.sub('([abcdefghijklmnopqrstuvwxyz])\\\\1+', '\\\\1\\\\1', word)\n",
      "\n",
      "# hellloo --> helo (hopefully correct will pick this up)\n",
      "def FixCharacterRepetitions3(word):\n",
      "    return re.sub('([abcdefghijklmnopqrstuvwxyz])\\\\1+', '\\\\1', word)\n",
      "\n",
      "# EX: all.it --> all it\n",
      "def FixLostSpaces(word):\n",
      "    return re.sub('([a-z])[,.;/\\\\\\]([a-z])', '\\\\1 \\\\2', word)\n",
      "\n",
      "# EX: thatis --> that is\n",
      "def FixRuntogethers(word):\n",
      "    s = [(word[:i], word[i:]) for i in range(len(word) + 1)]\n",
      "    runtogethers = [a + ' ' + b for a,b in s]\n",
      "    \n",
      "    runtogethers = set(runtogethers)\n",
      "    \n",
      "    words = zip([x.split(' ')[0] for x in runtogethers], [x.split(' ')[1] for x in runtogethers])\n",
      "    \n",
      "    for wordPair in words:\n",
      "        if wordPair[0] in validWords and wordPair[1] in validWords:\n",
      "            return wordPair[0] + ' ' + wordPair[1]\n",
      "        \n",
      "    return word"
     ],
     "language": "python",
     "metadata": {},
     "outputs": [],
     "prompt_number": 51
    },
    {
     "cell_type": "code",
     "collapsed": false,
     "input": [
      "Emojis = {}     # This is by no means a complete list\n",
      "happy = \":-) :) :o) :] :3 :c) :> =] 8) =) :} :^) :-D :D 8-D 8D x-D xD X-D XD =-D =D =-3 =3 B^D :-)) :'-) :') ;-) ;) *-) *) ;-] ;] ;D ;^) :-, }:-) }:) 3:-) 3:) O:-) 0:-3 0:3 0:-) 0:) 0;^) |;-) |-O <3 (-: (: (o: [: <: [= (8 (= (-= {: {-: {-= (^: (^= ((: (((: ((((: (((((: ((((((: :)) :))) :)))) :))))) :)))))) ((-: (((-: ((((-: (((((-: ((((((-: :-)) :-))) :-)))) :-))))) :-)))))) :DD 8DD XDD X-DD\"\n",
      "sad = \">:[ :-( :(  :-c :c :-< :< :-[ :[ :{ ;( :-|| :@ >:( :| :-| :-/ :-\\ :/ :\\ :'-( :'( </3\"\n",
      "    \n",
      "for x in happy.split(' '):\n",
      "    Emojis.update({x:'happy'})\n",
      "for x in sad.split(' '):\n",
      "    Emojis.update({x:'sad'})"
     ],
     "language": "python",
     "metadata": {},
     "outputs": [],
     "prompt_number": 10
    },
    {
     "cell_type": "code",
     "collapsed": false,
     "input": [
      "def FullCorrect(word):\n",
      "    word = word.lower()\n",
      "    \n",
      "    # First, check if in the valid word list, return quickly is it is\n",
      "    if word in validWords:\n",
      "        return word\n",
      "    \n",
      "    # Check emojis/emoticons\n",
      "    if word in Emojis:\n",
      "        return Emojis[word]\n",
      "    \n",
      "    #Check hyphenation here\n",
      "    \n",
      "    \n",
      "    \n",
      "    \n",
      "    #Remove puncuation\n",
      "    nowCorrect = word.translate(None, string.punctuation)\n",
      "    if nowCorrect in validWords:\n",
      "        return nowCorrect\n",
      "    \n",
      "    # Try to fix double character repetitions\n",
      "    nowCorrect = FixCharacterRepetitions(word)\n",
      "    if nowCorrect in validWords:\n",
      "        return nowCorrect\n",
      "    \n",
      "    # Try to fix triple character repetitions\n",
      "    nowCorrect = FixCharacterRepetitions2( nowCorrect )\n",
      "    if nowCorrect in validWords:\n",
      "        return nowCorrect\n",
      "    \n",
      "    # Try to fix all character repetitions and hope correct picks it up\n",
      "    nowCorrect = FixCharacterRepetitions3( nowCorrect )\n",
      "    if nowCorrect in validWords:\n",
      "        return nowCorrect\n",
      "    \n",
      "    if nowCorrect not in validWords:\n",
      "        nowCorrect = correct(word)\n",
      "    \n",
      "    if nowCorrect not in validWords:\n",
      "        return None\n",
      "    return nowCorrect"
     ],
     "language": "python",
     "metadata": {},
     "outputs": [],
     "prompt_number": 47
    },
    {
     "cell_type": "code",
     "collapsed": false,
     "input": [
      "print FullCorrect('good')\n",
      "print FullCorrect('that.is')\n",
      "print FullCorrect('goodbye')\n",
      "print FullCorrect('testing')\n",
      "print FullCorrect('123')"
     ],
     "language": "python",
     "metadata": {},
     "outputs": [
      {
       "output_type": "stream",
       "stream": "stdout",
       "text": [
        "good\n",
        "thats\n",
        "goodbye\n",
        "testing\n",
        "None"
       ]
      },
      {
       "output_type": "stream",
       "stream": "stdout",
       "text": [
        "\n"
       ]
      }
     ],
     "prompt_number": 48
    },
    {
     "cell_type": "code",
     "collapsed": false,
     "input": [],
     "language": "python",
     "metadata": {},
     "outputs": [],
     "prompt_number": 48
    },
    {
     "cell_type": "code",
     "collapsed": false,
     "input": [],
     "language": "python",
     "metadata": {},
     "outputs": [],
     "prompt_number": 48
    },
    {
     "cell_type": "code",
     "collapsed": false,
     "input": [],
     "language": "python",
     "metadata": {},
     "outputs": [],
     "prompt_number": 48
    },
    {
     "cell_type": "code",
     "collapsed": false,
     "input": [
      "def SpellingCorrect(word):\n",
      "    \n",
      "    if word in validWords:\n",
      "        #print 'in valid words'\n",
      "        yield word\n",
      "    \n",
      "    elif word in Emojis:\n",
      "        yield Emojis[word]\n",
      "        \n",
      "    elif len(word) < 3:\n",
      "        yield None\n",
      "    \n",
      "    else:\n",
      "    \n",
      "        words = []\n",
      "        # Try to fix dropped spaces and run togethers\n",
      "        x = FixLostSpaces(word).split(' ')\n",
      "        \n",
      "        if len(x) > 1:\n",
      "            # dealing with more than one word\n",
      "            words = x\n",
      "        else:\n",
      "            y = FixRuntogethers(word).split(' ')\n",
      "            if len(y) > 1:\n",
      "                # dealing with more than one word\n",
      "                words = y\n",
      "                \n",
      "            else: #must be dealing with one word\n",
      "                words.append(word)\n",
      "                \n",
      "        for w in words:\n",
      "            yield FullCorrect(w)"
     ],
     "language": "python",
     "metadata": {},
     "outputs": [],
     "prompt_number": 49
    },
    {
     "cell_type": "code",
     "collapsed": false,
     "input": [
      "for x in SpellingCorrect('this.is thisis of.this'):\n",
      "    print x"
     ],
     "language": "python",
     "metadata": {},
     "outputs": [
      {
       "output_type": "stream",
       "stream": "stdout",
       "text": [
        "this\n",
        "his\n",
        "this\n",
        "None\n",
        "this\n"
       ]
      }
     ],
     "prompt_number": 52
    },
    {
     "cell_type": "code",
     "collapsed": false,
     "input": [],
     "language": "python",
     "metadata": {},
     "outputs": []
    },
    {
     "cell_type": "code",
     "collapsed": false,
     "input": [],
     "language": "python",
     "metadata": {},
     "outputs": []
    },
    {
     "cell_type": "code",
     "collapsed": false,
     "input": [],
     "language": "python",
     "metadata": {},
     "outputs": []
    },
    {
     "cell_type": "code",
     "collapsed": false,
     "input": [
      "def CorrectSpelling(chunk):\n",
      "    words = chunk.strip().split(' ')\n",
      "    \n",
      "    for word in words:\n",
      "        for correct in SpellingCorrect(word):\n",
      "            if correct is not None: yield correct"
     ],
     "language": "python",
     "metadata": {},
     "outputs": [],
     "prompt_number": 65
    },
    {
     "cell_type": "code",
     "collapsed": false,
     "input": [
      "for x in CorrectSpelling('This. is a saample reviiew/sntence thatshould show alll of the abbilities of.this systenn :)'):\n",
      "    print x"
     ],
     "language": "python",
     "metadata": {},
     "outputs": [
      {
       "output_type": "stream",
       "stream": "stdout",
       "text": [
        "this\n",
        "sample\n",
        "review\n",
        "sentence\n",
        "that\n",
        "should\n",
        "show\n",
        "all\n",
        "the\n",
        "abilities\n",
        "this\n",
        "system"
       ]
      },
      {
       "output_type": "stream",
       "stream": "stdout",
       "text": [
        "\n",
        "happy\n"
       ]
      }
     ],
     "prompt_number": 66
    },
    {
     "cell_type": "code",
     "collapsed": false,
     "input": [],
     "language": "python",
     "metadata": {},
     "outputs": [],
     "prompt_number": 68
    },
    {
     "cell_type": "code",
     "collapsed": false,
     "input": [],
     "language": "python",
     "metadata": {},
     "outputs": []
    }
   ],
   "metadata": {}
  }
 ]
}